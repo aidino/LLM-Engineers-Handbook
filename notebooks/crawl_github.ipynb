{
 "cells": [
  {
   "cell_type": "markdown",
   "id": "a046a690",
   "metadata": {},
   "source": [
    "## Github crawler\n"
   ]
  },
  {
   "cell_type": "code",
   "execution_count": null,
   "id": "cecc76a9",
   "metadata": {},
   "outputs": [
    {
     "ename": "",
     "evalue": "",
     "output_type": "error",
     "traceback": [
      "\u001b[1;31mFailed to start the Kernel. \n",
      "\u001b[1;31mThe kernel died. Error: ... View Jupyter <a href='command:jupyter.viewOutput'>log</a> for further details."
     ]
    }
   ],
   "source": [
    "from llm_engineering.application.crawlers import GithubCrawler\n",
    "\n",
    "crawler = GithubCrawler()"
   ]
  },
  {
   "cell_type": "code",
   "execution_count": null,
   "id": "49db54d1",
   "metadata": {},
   "outputs": [],
   "source": [
    "public_link = \"https://github.com/aidino/novaguard-ai2\"\n",
    "private_link = \"git@github.com:aidino/ml-labs.git\"\n",
    "\n",
    "link = public_link"
   ]
  },
  {
   "cell_type": "code",
   "execution_count": null,
   "id": "332378b6",
   "metadata": {},
   "outputs": [],
   "source": [
    "repo_name = link.rstrip(\"/\").split(\"/\")[-1]\n",
    "repo_name"
   ]
  },
  {
   "cell_type": "code",
   "execution_count": null,
   "id": "81ef8607",
   "metadata": {},
   "outputs": [],
   "source": [
    "import tempfile\n",
    "local_temp = tempfile.mkdtemp()\n",
    "local_temp"
   ]
  },
  {
   "cell_type": "code",
   "execution_count": null,
   "id": "9c305b88",
   "metadata": {},
   "outputs": [],
   "source": [
    "import os\n",
    "import subprocess\n",
    "\n",
    "os.chdir(local_temp)\n",
    "subprocess.run([\"git\", \"clone\", link])\n",
    "\n",
    "repo_path = os.path.join(local_temp, os.listdir(local_temp)[0]) \n",
    "repo_path"
   ]
  },
  {
   "cell_type": "code",
   "execution_count": null,
   "id": "a981034f",
   "metadata": {},
   "outputs": [],
   "source": [
    "os.listdir(repo_path)"
   ]
  },
  {
   "cell_type": "code",
   "execution_count": null,
   "id": "4bf98dd8",
   "metadata": {},
   "outputs": [],
   "source": [
    "_ignore=(\".git\", \".toml\", \".lock\", \".png\")\n",
    "tree = {}\n",
    "for root, _, files in os.walk(repo_path):\n",
    "    dir = root.replace(repo_path, \"\").lstrip(\"/\")\n",
    "    if dir.startswith(_ignore):\n",
    "        continue\n",
    "\n",
    "    for file in files:\n",
    "        if file.endswith(_ignore):\n",
    "            continue\n",
    "        file_path = os.path.join(dir, file)  # noqa: PTH118\n",
    "        with open(os.path.join(root, file), \"r\", errors=\"ignore\") as f:  # noqa: PTH123, PTH118\n",
    "            tree[file_path] = f.read().replace(\" \", \"\")"
   ]
  },
  {
   "cell_type": "code",
   "execution_count": null,
   "id": "599ccdf2",
   "metadata": {},
   "outputs": [],
   "source": [
    "tree"
   ]
  }
 ],
 "metadata": {
  "kernelspec": {
   "display_name": "llm-engineering-tL-FPc5M-py3.11",
   "language": "python",
   "name": "python3"
  },
  "language_info": {
   "codemirror_mode": {
    "name": "ipython",
    "version": 3
   },
   "file_extension": ".py",
   "mimetype": "text/x-python",
   "name": "python",
   "nbconvert_exporter": "python",
   "pygments_lexer": "ipython3",
   "version": "3.11.12"
  }
 },
 "nbformat": 4,
 "nbformat_minor": 5
}
