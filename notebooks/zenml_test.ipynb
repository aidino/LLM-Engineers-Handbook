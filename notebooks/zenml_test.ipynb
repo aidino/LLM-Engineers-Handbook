{
 "cells": [
  {
   "cell_type": "markdown",
   "id": "47d15bab",
   "metadata": {},
   "source": [
    "### Load artifacts"
   ]
  },
  {
   "cell_type": "code",
   "execution_count": null,
   "id": "fd8158db",
   "metadata": {},
   "outputs": [
    {
     "ename": "",
     "evalue": "",
     "output_type": "error",
     "traceback": [
      "\u001b[1;31mFailed to start the Kernel. \n",
      "\u001b[1;31mThe kernel died. Error: ... View Jupyter <a href='command:jupyter.viewOutput'>log</a> for further details."
     ]
    }
   ],
   "source": [
    "from zenml.client import Client\n",
    "\n",
    "artifact = Client().get_artifact_version('7810ac63-5eb9-49fa-8361-e79706a3885f')\n",
    "loaded_artifact = artifact.load()\n",
    "loaded_artifact"
   ]
  },
  {
   "cell_type": "code",
   "execution_count": null,
   "id": "ec04f765",
   "metadata": {},
   "outputs": [],
   "source": [
    "loaded_artifact"
   ]
  }
 ],
 "metadata": {
  "kernelspec": {
   "display_name": "llm-engineering-tL-FPc5M-py3.11",
   "language": "python",
   "name": "python3"
  },
  "language_info": {
   "name": "python",
   "version": "3.11.12"
  }
 },
 "nbformat": 4,
 "nbformat_minor": 5
}
